{
  "nbformat": 4,
  "nbformat_minor": 0,
  "metadata": {
    "colab": {
      "provenance": [],
      "authorship_tag": "ABX9TyMv9up2lNXejavGBHwBswjO",
      "include_colab_link": true
    },
    "kernelspec": {
      "name": "python3",
      "display_name": "Python 3"
    },
    "language_info": {
      "name": "python"
    }
  },
  "cells": [
    {
      "cell_type": "markdown",
      "metadata": {
        "id": "view-in-github",
        "colab_type": "text"
      },
      "source": [
        "<a href=\"https://colab.research.google.com/github/TraeDWill/Dataeng_class/blob/main/rest_api.ipynb\" target=\"_parent\"><img src=\"https://colab.research.google.com/assets/colab-badge.svg\" alt=\"Open In Colab\"/></a>"
      ]
    },
    {
      "cell_type": "code",
      "execution_count": null,
      "metadata": {
        "id": "KjC5aw21CSfC"
      },
      "outputs": [],
      "source": [
        "# import required modules\n",
        "import requests, json\n",
        "\n",
        "# Enter your API key here\n",
        "api_key = \"eda3332e1c1f9ae34d2c4c13927edd35\"\n",
        "\n",
        "base_url = \"http://api.openweathermap.org/data/2.5/weather?\"\n",
        "complete_url = base_url + \"appid=\" + api_key + \"&q=\" + \"Portland\"\n",
        "s = requests.get(complete_url)\n",
        "t = s.json()\n",
        "v = t['weather']\n",
        "if(v[0]['main'] == 'Rain'):\n",
        "  print(\"It's Raining\")\n",
        "else:\n",
        "  print(\"Yay, it's not raining\")\n"
      ]
    },
    {
      "cell_type": "code",
      "source": [
        "geo_url = f'''http://api.openweathermap.org/geo/1.0/direct?q=Portland&appid={api_key}'''\n",
        "geo = requests.get(geo_url)\n",
        "place = geo.json()"
      ],
      "metadata": {
        "id": "8eP3LCHPhhe4"
      },
      "execution_count": null,
      "outputs": []
    },
    {
      "cell_type": "code",
      "source": [
        "geo_url = f'''http://api.openweathermap.org/geo/1.0/direct?q=Portland&appid={api_key}'''\n",
        "lat = place[0]['lat']\n",
        "lon = place[0]['lon']\n",
        "api_key2 = \"\"\n",
        "future_url = f'''api.openweathermap.org/data/2.5/forecast?lat={lat}&lon={lon}&appid={api_key2}'''\n",
        "fut = requests.get(future_url)\n",
        "fun = fut.json()\n",
        "print(fun)"
      ],
      "metadata": {
        "id": "vXZ0Dg0RKT4H"
      },
      "execution_count": null,
      "outputs": []
    },
    {
      "cell_type": "code",
      "source": [],
      "metadata": {
        "id": "_MSjzMsQLKIi"
      },
      "execution_count": null,
      "outputs": []
    }
  ]
}