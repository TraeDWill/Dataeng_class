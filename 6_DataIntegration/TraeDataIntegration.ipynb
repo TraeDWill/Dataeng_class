{
  "nbformat": 4,
  "nbformat_minor": 0,
  "metadata": {
    "colab": {
      "provenance": [],
      "authorship_tag": "ABX9TyP17QsGmNApgzIjpPUakLSC",
      "include_colab_link": true
    },
    "kernelspec": {
      "name": "python3",
      "display_name": "Python 3"
    },
    "language_info": {
      "name": "python"
    }
  },
  "cells": [
    {
      "cell_type": "markdown",
      "metadata": {
        "id": "view-in-github",
        "colab_type": "text"
      },
      "source": [
        "<a href=\"https://colab.research.google.com/github/TraeDWill/Dataeng_class/blob/main/6_DataIntegration/TraeDataIntegration.ipynb\" target=\"_parent\"><img src=\"https://colab.research.google.com/assets/colab-badge.svg\" alt=\"Open In Colab\"/></a>"
      ]
    },
    {
      "cell_type": "markdown",
      "source": [
        "**Modules**"
      ],
      "metadata": {
        "id": "yLR_MPpU2bjW"
      }
    },
    {
      "cell_type": "code",
      "execution_count": 1,
      "metadata": {
        "id": "pogcWCgL2agn"
      },
      "outputs": [],
      "source": [
        "import pandas as pd\n",
        "from google.colab import drive\n",
        "import os"
      ]
    },
    {
      "cell_type": "markdown",
      "source": [
        "**Downloading the CSVs**"
      ],
      "metadata": {
        "id": "-IDKKnOF7JPs"
      }
    },
    {
      "cell_type": "code",
      "source": [
        "%%capture\n",
        "! gdown 18UD2EGKwq3YjVMBPsS8kVz0e671p7vzV\n",
        "! gdown 1xAWZ_tEjEAFsosCdax78lrWkLnUgoWSn\n",
        "\n",
        "import pandas as pd\n",
        "\n",
        "covid_df = pd.read_csv(\"/content/COVID_county_data.csv\")\n",
        "census_df = pd.read_csv(\"/content/acs2017_census_tract_data.csv\")"
      ],
      "metadata": {
        "id": "KLEMYtkn60MJ"
      },
      "execution_count": 2,
      "outputs": []
    },
    {
      "cell_type": "markdown",
      "source": [],
      "metadata": {
        "id": "T0WByz_qaNsF"
      }
    },
    {
      "cell_type": "markdown",
      "source": [
        "**Aggregate The Stuff**"
      ],
      "metadata": {
        "id": "snovsZ0RlSPS"
      }
    },
    {
      "cell_type": "code",
      "source": [
        "income = ['Income', 'IncomeErr', 'IncomePerCap', 'IncomePerCapError', 'Poverty']\n",
        "\n",
        "def custom_agg(column):\n",
        "    if column.name in income:\n",
        "        return round(column.mean(), 2)\n",
        "    elif column.dtype == 'int64' or column.dtype == 'float64':  # Check if the column type is int or float\n",
        "        return column.sum()\n",
        "    else:\n",
        "        return column.iloc[0] # Keep non-numeric columns unchanged\n",
        "\n",
        "county_df = census_df.groupby('County').agg(custom_agg)"
      ],
      "metadata": {
        "collapsed": true,
        "id": "8HcVSuIq7R6x"
      },
      "execution_count": 3,
      "outputs": []
    },
    {
      "cell_type": "markdown",
      "source": [
        "**Drop useless and add ID**"
      ],
      "metadata": {
        "id": "BHMGSI-9lbct"
      }
    },
    {
      "cell_type": "code",
      "source": [
        "county_df = county_df.drop(\"TractId\", axis=1)\n",
        "county_df['County_ID'] = range(1, len(county_df) + 1)"
      ],
      "metadata": {
        "id": "6FFpnOdd_mRM"
      },
      "execution_count": 4,
      "outputs": []
    },
    {
      "cell_type": "code",
      "source": [
        "def particulars(county):\n",
        "  county_df.loc[county]\n",
        "  population = county_df.loc[county]['TotalPop']\n",
        "  pov_perc = county_df.loc[county]['Poverty']\n",
        "  pci = county_df.loc[county]['IncomePerCap']\n",
        "  print(f'''Population: {population}, Poverty Percentage: {pov_perc},\n",
        "  Per Capita Income: {pci}''')\n",
        "  return [population, pov_perc, pci]\n"
      ],
      "metadata": {
        "id": "3A3-O61qadqO"
      },
      "execution_count": null,
      "outputs": []
    },
    {
      "cell_type": "code",
      "source": [
        "particulars('Malheur County')"
      ],
      "metadata": {
        "id": "fU-gVin5ni-3"
      },
      "execution_count": null,
      "outputs": []
    },
    {
      "cell_type": "markdown",
      "source": [
        "**Maximum and Minimum along with Row ID**"
      ],
      "metadata": {
        "id": "EBE5bCL0-dQH"
      }
    },
    {
      "cell_type": "code",
      "source": [
        "max = county_df['TotalPop'].max()\n",
        "county_max = county_df['TotalPop'].idxmax()\n",
        "min = county_df['TotalPop'].min()\n",
        "county_min = county_df['TotalPop'].idxmin()\n",
        "\n",
        "print(f'''County with Max Population: {county_max}, Population: {max}.\n",
        "      County with Min Population: {county_min}, Population: {min}''')"
      ],
      "metadata": {
        "id": "6i7r_7jy8m5e"
      },
      "execution_count": null,
      "outputs": []
    },
    {
      "cell_type": "markdown",
      "source": [
        "**Covid Integration**"
      ],
      "metadata": {
        "id": "0Juax_B5HUr1"
      }
    },
    {
      "cell_type": "code",
      "source": [
        "covid_df.info()"
      ],
      "metadata": {
        "id": "Jd0orgbUHJk2",
        "colab": {
          "base_uri": "https://localhost:8080/"
        },
        "outputId": "e11f0454-93d9-4302-bec4-91fe3fb4098f"
      },
      "execution_count": 26,
      "outputs": [
        {
          "output_type": "stream",
          "name": "stdout",
          "text": [
            "<class 'pandas.core.frame.DataFrame'>\n",
            "RangeIndex: 1050258 entries, 0 to 1050257\n",
            "Data columns (total 6 columns):\n",
            " #   Column  Non-Null Count    Dtype    \n",
            "---  ------  --------------    -----    \n",
            " 0   date    1050258 non-null  period[M]\n",
            " 1   county  1050258 non-null  object   \n",
            " 2   state   1050258 non-null  object   \n",
            " 3   fips    1040589 non-null  float64  \n",
            " 4   cases   1050258 non-null  int64    \n",
            " 5   deaths  1027519 non-null  float64  \n",
            "dtypes: float64(2), int64(1), object(2), period[M](1)\n",
            "memory usage: 48.1+ MB\n"
          ]
        }
      ]
    },
    {
      "cell_type": "code",
      "source": [
        "# Convert 'date' column to datetime\n",
        "covid_df['date'] = pd.to_datetime(covid_df['date'])\n",
        "\n",
        "# Convert 'date' column to month periods\n",
        "covid_df['date'] = covid_df['date'].dt.to_period('M')\n",
        "\n",
        "# Define custom aggregation function\n",
        "def custom_agg(column):\n",
        "    if column.dtype == 'int64' or column.dtype == 'float64':\n",
        "        # Sum numeric columns\n",
        "        return column.sum()\n",
        "    else:\n",
        "        # Keep non-numeric columns unchanged, take the first value\n",
        "        return column.iloc[0]\n",
        "\n",
        "# Group by 'county' and 'date' (month) and apply the custom aggregation function\n",
        "grouped_df = covid_df.groupby(['county', 'date']).agg(custom_agg)\n",
        "\n",
        "print(grouped_df)\n"
      ],
      "metadata": {
        "collapsed": true,
        "id": "F3V5-TdlizbF",
        "colab": {
          "base_uri": "https://localhost:8080/"
        },
        "outputId": "d78e68fe-e81d-4290-fbe7-6ad5a65155d1"
      },
      "execution_count": 5,
      "outputs": [
        {
          "output_type": "stream",
          "name": "stdout",
          "text": [
            "                            state       fips  cases  deaths\n",
            "county    date                                             \n",
            "Abbeville 2020-03  South Carolina   585013.0     32     0.0\n",
            "          2020-04  South Carolina  1350030.0    430     0.0\n",
            "          2020-05  South Carolina  1395031.0   1080     0.0\n",
            "          2020-06  South Carolina  1350030.0   2187     0.0\n",
            "          2020-07  South Carolina  1395031.0   5959    65.0\n",
            "...                           ...        ...    ...     ...\n",
            "Ziebach   2020-10    South Dakota  1430247.0   2418    36.0\n",
            "          2020-11    South Dakota  1384110.0   4405   115.0\n",
            "          2020-12    South Dakota  1430247.0   8247   219.0\n",
            "          2021-01    South Dakota  1430247.0  10011   256.0\n",
            "          2021-02    South Dakota   922740.0   6715   180.0\n",
            "\n",
            "[22193 rows x 4 columns]\n"
          ]
        }
      ]
    },
    {
      "cell_type": "code",
      "source": [
        "oregon_df = grouped_df[grouped_df['state'] == 'Oregon']\n",
        "total_cases = oregon_df['cases'].sum()\n",
        "total_deaths = oregon_df['deaths'].sum()\n",
        "\n",
        "print(f\"Total cases in Oregon: {total_cases}\")\n",
        "print(f\"Total deaths in Oregon: {total_deaths}\")"
      ],
      "metadata": {
        "id": "Uaw61vORlDwL"
      },
      "execution_count": null,
      "outputs": []
    },
    {
      "cell_type": "code",
      "source": [
        "def findstuff(df, county):\n",
        "  county_data = df.loc[county]\n",
        "  case1 = county_data.loc['2020-07']['cases']\n",
        "  case1d = county_data.loc['2020-07']['deaths']\n",
        "  case2 = county_data.loc['2021-01']['cases']\n",
        "  case2d = county_data.loc['2021-01']['deaths']\n",
        "  case3 = county_data.loc['2021-02']['cases']\n",
        "  case3d = county_data.loc['2021-02']['deaths']\n",
        "  print(f\"\"\"Cases and Deaths in {county}:\\n\n",
        "          September 2020: Cases: {case1} Deaths: {case1d} \\n\n",
        "          January 2021: Cases: {case2} Deaths: {case2d} \\n\n",
        "          February 2021: Cases: {case3} Deaths: {case3d}\"\"\")\n",
        "\n",
        "  return county_data"
      ],
      "metadata": {
        "id": "hUPd4Yaxku_y"
      },
      "execution_count": null,
      "outputs": []
    },
    {
      "cell_type": "markdown",
      "source": [
        "MEGAZORDS COMBINE"
      ],
      "metadata": {
        "id": "XsSEuKsZKgY9"
      }
    },
    {
      "cell_type": "code",
      "source": [
        "new_covid_df = grouped_df\n",
        "new_census_df = county_df\n",
        "new_covid_df.info()\n",
        "new_census_df.info()"
      ],
      "metadata": {
        "id": "aBVklp2hKlbp"
      },
      "execution_count": null,
      "outputs": []
    },
    {
      "cell_type": "code",
      "source": [
        "#Fixin stuff\n",
        "\n",
        "new_covid_df_reset = new_covid_df.reset_index()\n",
        "new_census_df_reset = new_census_df.reset_index().rename(columns={'index': 'county'})\n",
        "new_census_df_reset['County'] = new_census_df_reset['County'].str.replace(' County', '')\n",
        "new_census_df_reset = new_census_df_reset.rename(columns={'County': 'county'})\n",
        "\n",
        "#Mergin stuff\n",
        "merged_df = pd.merge(new_covid_df_reset, new_census_df_reset, on='county', how='left')\n",
        "\n",
        "#Choppin stuff\n",
        "def custom_agg(group):\n",
        "    return pd.Series({\n",
        "        'County_ID': group['County_ID'].iloc[0],  # Keep the first ID\n",
        "        'TotalPop': group['TotalPop'].sum(),  # Sum of population\n",
        "        'Poverty': group['Poverty'].mean(),  # Average poverty\n",
        "        'PerCapitaIncome': group['IncomePerCap'].mean(),  # Average per capita income\n",
        "        'cases': group['cases'].iloc[0],  # First value of cases\n",
        "        'deaths': group['deaths'].iloc[0],  # First value of deaths\n",
        "        'TotalCasesPer100k': round(group['cases'].iloc[0] / (group['TotalPop'].sum() / 100000),2),  # Calculate cases per 100k\n",
        "        'TotalDeathPer100k': round(group['deaths'].iloc[0] / (group['TotalPop'].sum() / 100000),2)  # Calculate deaths per 100k\n",
        "    })\n",
        "result_df = merged_df.groupby('county').apply(custom_agg).reset_index()\n",
        "print(result_df)"
      ],
      "metadata": {
        "colab": {
          "base_uri": "https://localhost:8080/"
        },
        "id": "KUoRoXC2NF4a",
        "outputId": "8930bf30-0e2e-4dcc-a062-acca36d65930"
      },
      "execution_count": 36,
      "outputs": [
        {
          "output_type": "stream",
          "name": "stderr",
          "text": [
            "<ipython-input-36-010d3fdc5f6e>:20: RuntimeWarning: divide by zero encountered in scalar divide\n",
            "  'TotalCasesPer100k': round(group['cases'].iloc[0] / (group['TotalPop'].sum() / 100000),2),  # Calculate cases per 100k\n",
            "<ipython-input-36-010d3fdc5f6e>:21: RuntimeWarning: divide by zero encountered in scalar divide\n",
            "  'TotalDeathPer100k': round(group['deaths'].iloc[0] / (group['TotalPop'].sum() / 100000),2)  # Calculate deaths per 100k\n",
            "<ipython-input-36-010d3fdc5f6e>:21: RuntimeWarning: invalid value encountered in scalar divide\n",
            "  'TotalDeathPer100k': round(group['deaths'].iloc[0] / (group['TotalPop'].sum() / 100000),2)  # Calculate deaths per 100k\n"
          ]
        },
        {
          "output_type": "stream",
          "name": "stdout",
          "text": [
            "                         county  County_ID   TotalPop  Poverty  \\\n",
            "0                     Abbeville        1.0   297456.0    22.18   \n",
            "1                        Acadia        NaN        0.0      NaN   \n",
            "2                      Accomack        3.0   394080.0    20.11   \n",
            "3                           Ada        4.0  5221404.0    12.61   \n",
            "4                         Adair        5.0   888828.0    25.91   \n",
            "...                         ...        ...        ...      ...   \n",
            "1925  Yukon-Koyukuk Census Area     1951.0    59983.0    25.75   \n",
            "1926                       Yuma     1952.0  2572680.0    19.17   \n",
            "1927                     Zapata     1953.0   158565.0    32.57   \n",
            "1928                     Zavala     1954.0   133672.0    41.38   \n",
            "1929                    Ziebach     1955.0    28370.0    43.10   \n",
            "\n",
            "      PerCapitaIncome  cases  deaths  TotalCasesPer100k  TotalDeathPer100k  \n",
            "0            19402.83   32.0     0.0              10.76               0.00  \n",
            "1                 NaN   85.0     5.0                inf                inf  \n",
            "2            24769.75   28.0     0.0               7.11               0.00  \n",
            "3            32672.66  795.0     9.0              15.23               0.17  \n",
            "4            19711.41   55.0     0.0               6.19               0.00  \n",
            "...               ...    ...     ...                ...                ...  \n",
            "1925         21017.75   29.0     0.0              48.35               0.00  \n",
            "1926         21601.87   74.0     0.0               2.88               0.00  \n",
            "1927         17884.33  120.0     0.0              75.68               0.00  \n",
            "1928         12660.25   14.0     0.0              10.47               0.00  \n",
            "1929         13461.00   26.0     0.0              91.65               0.00  \n",
            "\n",
            "[1930 rows x 9 columns]\n"
          ]
        }
      ]
    },
    {
      "cell_type": "code",
      "source": [
        "def info(county, df):\n",
        "  result = df[df['county'] == county]\n",
        "  printer = result[['Poverty','TotalCasesPer100k']]\n",
        "  print(printer)"
      ],
      "metadata": {
        "id": "nuaN-oYbw_Pz"
      },
      "execution_count": 39,
      "outputs": []
    },
    {
      "cell_type": "code",
      "source": [
        "info('Harlan', result_df)"
      ],
      "metadata": {
        "colab": {
          "base_uri": "https://localhost:8080/"
        },
        "id": "vrGQNXZVyNmH",
        "outputId": "d283012b-4469-4219-f136-49fdcd5e2d77"
      },
      "execution_count": 43,
      "outputs": [
        {
          "output_type": "stream",
          "name": "stdout",
          "text": [
            "     Poverty  TotalCasesPer100k\n",
            "756    31.62               8.06\n"
          ]
        }
      ]
    }
  ]
}