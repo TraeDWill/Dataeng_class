{
  "nbformat": 4,
  "nbformat_minor": 0,
  "metadata": {
    "colab": {
      "provenance": [],
      "authorship_tag": "ABX9TyM0gNe8nAQqVwwJyPKAW7UT",
      "include_colab_link": true
    },
    "kernelspec": {
      "name": "python3",
      "display_name": "Python 3"
    },
    "language_info": {
      "name": "python"
    }
  },
  "cells": [
    {
      "cell_type": "markdown",
      "metadata": {
        "id": "view-in-github",
        "colab_type": "text"
      },
      "source": [
        "<a href=\"https://colab.research.google.com/github/TraeDWill/Dataeng_class/blob/main/02_gather.ipynb\" target=\"_parent\"><img src=\"https://colab.research.google.com/assets/colab-badge.svg\" alt=\"Open In Colab\"/></a>"
      ]
    },
    {
      "cell_type": "code",
      "execution_count": null,
      "metadata": {
        "id": "qrDyYUw52c7p"
      },
      "outputs": [],
      "source": [
        "import pandas as pd\n",
        "import numpy as np\n",
        "import matplotlib.pyplot as plt\n",
        "import seaborn as sns\n",
        "%matplotlib inline\n",
        "from urllib.request import urlopen\n",
        "from bs4 import BeautifulSoup\n",
        "import re\n",
        "from pylab import rcParams\n",
        "\n",
        "url = \"https://www.hubertiming.com/results/2023WyEasterLong\"\n",
        "html = urlopen(url)\n",
        "soup = BeautifulSoup(html, 'lxml')\n",
        "type(soup)\n",
        "title = soup.title\n",
        "print(title)\n",
        "text = soup.get_text()\n",
        "print(soup.text)\n",
        "soup.find_all('a')\n",
        "all_links = soup.find_all(\"a\")\n",
        "for link in all_links:\n",
        "    print(link.get(\"href\"))\n",
        "    rows = soup.find_all('tr')\n",
        "print(rows[:10])\n",
        "for row in rows:\n",
        "    row_td = row.find_all('td')\n",
        "print(row_td)\n",
        "type(row_td)\n",
        "list_rows = []\n",
        "for row in rows:\n",
        "    cells = row.find_all('td')\n",
        "    str_cells = str(cells)\n",
        "    clean = re.compile('<.*?>')\n",
        "    clean2 = (re.sub(clean, '',str_cells))\n",
        "    list_rows.append(clean2)\n",
        "print(clean2)\n",
        "type(clean2)"
      ]
    },
    {
      "cell_type": "code",
      "source": [
        "df = pd.DataFrame(list_rows)\n",
        "df.head(10)\n",
        "\n",
        "df1 = df[0].str.split(',', expand=True)\n",
        "df1.head(10)\n",
        "\n",
        "df1[0] = df1[0].str.strip('[')\n",
        "df1.head(10)\n",
        "\n",
        "col_labels = soup.find_all('th')\n",
        "\n",
        "all_header = []\n",
        "col_str = str(col_labels)\n",
        "cleantext2 = BeautifulSoup(col_str, \"lxml\").get_text()\n",
        "all_header.append(cleantext2)\n",
        "print(all_header)\n",
        "\n",
        "df2 = pd.DataFrame(all_header)\n",
        "df2.head()\n",
        "\n",
        "df3 = df2[0].str.split(',', expand=True)\n",
        "df3.head()\n",
        "frames = [df3, df1]\n",
        "\n",
        "df4 = pd.concat(frames)\n",
        "df4.head(10)\n",
        "df5 = df4.rename(columns=df4.iloc[0])\n",
        "df5.head()\n",
        "df5.info()\n",
        "df5.shape\n",
        "df6 = df5.dropna(axis=0, how='any')\n",
        "df6.info()\n",
        "df6.shape\n",
        "df7 = df6.drop(df6.index[0])\n",
        "df7.head()\n",
        "\n",
        "df7.rename(columns={'[Place': 'Place'},inplace=True)\n",
        "df7.rename(columns={' Team]': 'Team'},inplace=True)\n",
        "df7.head()\n",
        "\n"
      ],
      "metadata": {
        "id": "Is8cSVI56I6D"
      },
      "execution_count": null,
      "outputs": []
    },
    {
      "cell_type": "code",
      "source": [
        "time_list = df7[' Gun Time'].tolist()\n",
        "time_mins = []\n",
        "for i in time_list:\n",
        "    if(len(i.split(':')) == 3):\n",
        "      h, m, s = i.split(':')\n",
        "      math = (int(h) * 3600 + int(m) * 60 + int(s))/60\n",
        "      time_mins.append(math)\n",
        "    else:\n",
        "      m, s = i.split(':')\n",
        "      math = (int(m) * 60 + int(s))\n",
        "      time_mins.append(math)\n",
        "#print(time_mins)\n",
        "df7['Runner_mins'] = time_mins\n",
        "df7.head()\n",
        "df7.describe(include=[np.number])\n",
        "rcParams['figure.figsize'] = 15, 5\n",
        "\n",
        "\n",
        "df7.boxplot(column='Runner_mins')\n",
        "plt.grid(True, axis='y')\n",
        "plt.ylabel('Chip Time')\n",
        "plt.xticks([1], ['Runners'])\n",
        "\n",
        "x = df7['Runner_mins']\n",
        "ax = sns.distplot(x, hist=True, kde=True, rug=False, color='m', bins=25, hist_kws={'edgecolor':'black'})\n",
        "plt.show()\n",
        "\n",
        "f_fuko = df7.loc[df7[' Gender']==' F']['Runner_mins']\n",
        "m_fuko = df7.loc[df7[' Gender']==' M']['Runner_mins']\n",
        "sns.distplot(f_fuko, hist=True, kde=True, rug=False, hist_kws={'edgecolor':'black'}, label='Female')\n",
        "sns.distplot(m_fuko, hist=False, kde=True, rug=False, hist_kws={'edgecolor':'black'}, label='Male')\n",
        "plt.legend()\n",
        "\n",
        "g_stats = df7.groupby(\" Gender\", as_index=True).describe()\n",
        "print(g_stats)\n",
        "\n",
        "df7.boxplot(column='Runner_mins', by=' Gender')\n",
        "plt.ylabel('Chip Time')\n",
        "plt.suptitle(\"\")\n",
        "\n",
        "\n",
        "\n"
      ],
      "metadata": {
        "id": "5IoGtsSh8QM9"
      },
      "execution_count": null,
      "outputs": []
    },
    {
      "cell_type": "code",
      "source": [],
      "metadata": {
        "id": "6vUOs2z1-Q0V"
      },
      "execution_count": null,
      "outputs": []
    }
  ]
}