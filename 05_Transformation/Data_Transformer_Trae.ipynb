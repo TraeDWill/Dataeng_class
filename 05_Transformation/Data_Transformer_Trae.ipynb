{
  "nbformat": 4,
  "nbformat_minor": 0,
  "metadata": {
    "colab": {
      "provenance": []
    },
    "kernelspec": {
      "name": "python3",
      "display_name": "Python 3"
    },
    "language_info": {
      "name": "python"
    }
  },
  "cells": [
    {
      "cell_type": "code",
      "execution_count": 9,
      "metadata": {
        "id": "YkGn0zaj6hLA"
      },
      "outputs": [],
      "source": [
        "import requests\n",
        "import pandas as pd\n",
        "from io import StringIO\n",
        "import os, sys"
      ]
    },
    {
      "cell_type": "code",
      "source": [
        "# URL of the CSV file in Google Drive (make sure the sharing settings are set to \"Anyone with the link\")\n",
        "url = 'https://drive.google.com/uc?id=1G4MUbdUFeACgjGcg6dcwykBZn21zg1jO'\n",
        "\n",
        "Response = requests.get(url)\n",
        "\n",
        "# Download the CSV file into memory\n",
        "csv_content = Response.text\n",
        "\n",
        "# Read the CSV data from the downloaded content\n",
        "df = pd.read_csv(StringIO(csv_content))"
      ],
      "metadata": {
        "id": "HCvJ0bJe1RbQ"
      },
      "execution_count": 3,
      "outputs": []
    },
    {
      "cell_type": "code",
      "source": [
        "df.info()"
      ],
      "metadata": {
        "id": "OtUghII_8rWn"
      },
      "execution_count": null,
      "outputs": []
    },
    {
      "cell_type": "code",
      "source": [
        "df.drop('EVENT_NO_STOP', axis=1, inplace=True)"
      ],
      "metadata": {
        "id": "ia-I3HzD9wQQ"
      },
      "execution_count": 4,
      "outputs": []
    },
    {
      "cell_type": "code",
      "source": [
        "df.info()"
      ],
      "metadata": {
        "id": "_0yfscWw98ZI"
      },
      "execution_count": null,
      "outputs": []
    },
    {
      "cell_type": "code",
      "source": [
        "df.drop(['GPS_SATELLITES', 'GPS_HDOP'], axis=1, inplace=True)"
      ],
      "metadata": {
        "id": "1iiXuAP6-gSx"
      },
      "execution_count": 5,
      "outputs": []
    },
    {
      "cell_type": "code",
      "source": [
        "columns = ['EVENT_NO_TRIP', 'OPD_DATE', 'VEHICLE_ID', 'METERS', 'ACT_TIME', 'GPS_LONGITUDE', 'GPS_LATITUDE']\n",
        "df1 = pd.read_csv(StringIO(csv_content), usecols=columns)\n",
        "df1.info()\n"
      ],
      "metadata": {
        "id": "BuiFCAN3-w-U"
      },
      "execution_count": null,
      "outputs": []
    },
    {
      "cell_type": "code",
      "source": [
        "def timestamp(df1):\n",
        "  # Create an empty list to store Timestamp objects\n",
        "  timestamps = []\n",
        "\n",
        "  # Iterate over DataFrame rows using iterrows()\n",
        "  for index, row in df1.iterrows():\n",
        "      df_total = int(row['ACT_TIME'])\n",
        "      df_hour = df_total // (60*60)\n",
        "      df_min = (df_total - (df_hour*3600)) // 60\n",
        "      df_sec = df_total - (df_hour*3600) - (df_min*60)\n",
        "      df_month = pd.to_datetime(row['OPD_DATE'], format=\"%d%b%Y:%H:%M:%S\").month\n",
        "      df_day = pd.to_datetime(row['OPD_DATE'], format=\"%d%b%Y:%H:%M:%S\").day\n",
        "\n",
        "      # Create a Timestamp object and append it to the list\n",
        "      timestamp = pd.Timestamp(year=2019, month=df_month, day=df_day, hour=df_hour, minute=df_min, second=df_sec)\n",
        "      timestamps.append(timestamp)\n",
        "\n",
        "  # Assign the list of Timestamps to the 'TIMESTAMP' column of the DataFrame\n",
        "  df1['TIMESTAMP'] = timestamps\n",
        "  return df1\n"
      ],
      "metadata": {
        "id": "Qxq5RdTRBUXq"
      },
      "execution_count": 14,
      "outputs": []
    },
    {
      "cell_type": "code",
      "source": [
        "df1.drop(['ACT_TIME', 'OPD_DATE'], axis=1, inplace=True)"
      ],
      "metadata": {
        "id": "9nYteOiNgrI3"
      },
      "execution_count": 8,
      "outputs": []
    },
    {
      "cell_type": "code",
      "source": [
        "print(df1)"
      ],
      "metadata": {
        "id": "PTfsB_jog2GW"
      },
      "execution_count": null,
      "outputs": []
    },
    {
      "cell_type": "code",
      "source": [
        "def speed(df1):\n",
        "  dMETERS = []\n",
        "  dTIMESTAMPS = []\n",
        "  SPEED = []\n",
        "\n",
        "  for index, row in df1.iterrows():\n",
        "\n",
        "      if index > 0 and df1['EVENT_NO_TRIP'].diff != 0:\n",
        "          dMETER = df1.at[index, 'METERS'] - df1.at[index - 1, 'METERS']\n",
        "      else:\n",
        "          dMETER = 0\n",
        "\n",
        "      if index > 0 and df1['EVENT_NO_TRIP'].diff != 0:\n",
        "          dTIMESTAMP = (df1.at[index, 'TIMESTAMP'] - df1.at[index - 1, 'TIMESTAMP']).total_seconds()\n",
        "      else:\n",
        "          dTIMESTAMP = 0\n",
        "\n",
        "      if dTIMESTAMP != 0 and df1['EVENT_NO_TRIP'].diff != 0:\n",
        "          dSPEED = dMETER / dTIMESTAMP\n",
        "      else:\n",
        "          dSPEED = 0\n",
        "\n",
        "      dMETERS.append(dMETER)\n",
        "      dTIMESTAMPS.append(dTIMESTAMP)\n",
        "      SPEED.append(dSPEED)\n",
        "\n",
        "\n",
        "  df1['dMETERS'] = dMETERS\n",
        "  df1['dTIMESTAMP'] = dTIMESTAMPS\n",
        "  df1['SPEED'] = SPEED\n",
        "  return df1"
      ],
      "metadata": {
        "id": "eVUxdBuYHI00"
      },
      "execution_count": 27,
      "outputs": []
    },
    {
      "cell_type": "code",
      "source": [
        "print(df1)"
      ],
      "metadata": {
        "id": "kPbqGO8vNch3"
      },
      "execution_count": null,
      "outputs": []
    },
    {
      "cell_type": "code",
      "source": [
        "file_path = \"/content/bc_trip259172515_230215.csv\"\n",
        "if os.path.isfile(file_path) == False:\n",
        "  !gdown 133NksS6c4yW2rs-U8OwrncjoKzJtC4JL\n",
        "\n",
        "# Concatenate the list of chunks into a single DataFrame\n",
        "Ldf = pd.read_csv(file_path, low_memory=False)\n",
        "\n",
        "#Part C\n",
        "Ldf.drop(['EVENT_NO_STOP', 'GPS_SATELLITES', 'GPS_HDOP'], axis=1, inplace=True)"
      ],
      "metadata": {
        "id": "xSVz6Lu9Pt3Q"
      },
      "execution_count": 21,
      "outputs": []
    },
    {
      "cell_type": "code",
      "source": [
        "timestamp(Ldf)\n",
        "Ldf.info()"
      ],
      "metadata": {
        "id": "1VHegqgiZNPM"
      },
      "execution_count": null,
      "outputs": []
    },
    {
      "cell_type": "code",
      "source": [
        "speed(Ldf)\n",
        "Ldf.info()"
      ],
      "metadata": {
        "colab": {
          "base_uri": "https://localhost:8080/"
        },
        "id": "WkxkzZAAdLle",
        "outputId": "3cb2ff7f-f371-480c-aa79-5fda2b57530b"
      },
      "execution_count": 32,
      "outputs": [
        {
          "output_type": "stream",
          "name": "stdout",
          "text": [
            "<class 'pandas.core.frame.DataFrame'>\n",
            "RangeIndex: 161 entries, 0 to 160\n",
            "Data columns (total 11 columns):\n",
            " #   Column         Non-Null Count  Dtype         \n",
            "---  ------         --------------  -----         \n",
            " 0   EVENT_NO_TRIP  161 non-null    int64         \n",
            " 1   OPD_DATE       161 non-null    object        \n",
            " 2   VEHICLE_ID     161 non-null    int64         \n",
            " 3   METERS         161 non-null    int64         \n",
            " 4   ACT_TIME       161 non-null    int64         \n",
            " 5   GPS_LONGITUDE  161 non-null    float64       \n",
            " 6   GPS_LATITUDE   161 non-null    float64       \n",
            " 7   TIMESTAMP      161 non-null    datetime64[ns]\n",
            " 8   dMETERS        161 non-null    int64         \n",
            " 9   dTIMESTAMP     161 non-null    float64       \n",
            " 10  SPEED          161 non-null    float64       \n",
            "dtypes: datetime64[ns](1), float64(4), int64(5), object(1)\n",
            "memory usage: 14.0+ KB\n"
          ]
        }
      ]
    },
    {
      "cell_type": "code",
      "source": [
        "Ldf.drop(['ACT_TIME', 'OPD_DATE'], axis=1, inplace=True )"
      ],
      "metadata": {
        "id": "tKXZePQEdtDh"
      },
      "execution_count": null,
      "outputs": []
    }
  ]
}